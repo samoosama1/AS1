{
 "cells": [
  {
   "cell_type": "code",
   "execution_count": null,
   "metadata": {},
   "outputs": [],
   "source": []
  },
  {
   "cell_type": "code",
   "execution_count": 56,
   "metadata": {},
   "outputs": [],
   "source": [
    "# Import necessary libraries\n",
    "import sys\n",
    "import numpy as np\n",
    "import cv2\n",
    "import matplotlib.pyplot as plt\n",
    "from skimage.metrics import structural_similarity as ssim\n",
    "import os\n",
    "from pathlib import Path\n"
   ]
  },
  {
   "cell_type": "code",
   "execution_count": 57,
   "metadata": {},
   "outputs": [
    {
     "data": {
      "text/plain": [
       "'d:\\\\TERM 6\\\\BBM418\\\\AS1'"
      ]
     },
     "execution_count": 57,
     "metadata": {},
     "output_type": "execute_result"
    }
   ],
   "source": [
    "os.getcwd()"
   ]
  },
  {
   "cell_type": "code",
   "execution_count": 58,
   "metadata": {},
   "outputs": [],
   "source": [
    "def hough_transform(edge_image, rho_resolution=0.5, theta_resolution=0.5, threshold_factor=0.3):\n",
    "    height, width = edge_image.shape \n",
    "    num_theta_bins = int(180 / theta_resolution)\n",
    "    theta_values = np.arange(0, 180, theta_resolution)\n",
    "    theta_radians = theta_values * (np.pi / 180)\n",
    "    diagonal = np.sqrt(height**2 + width**2)\n",
    "    max_rho = diagonal\n",
    "    num_rho_bins = int(2 * diagonal / rho_resolution)\n",
    "    hough_space = np.zeros((num_rho_bins, num_theta_bins))\n",
    "    cos_theta = np.cos(theta_radians)\n",
    "    sin_theta = np.sin(theta_radians)\n",
    "    y, x = np.nonzero(edge_image)\n",
    "    num_edge_points = len(x)\n",
    "    x_adjusted = x - (width / 2)\n",
    "    y_adjusted = y - (height / 2)\n",
    "    rho = x_adjusted[:, np.newaxis] * cos_theta[np.newaxis, :] + y_adjusted[:, np.newaxis] * sin_theta[np.newaxis, :]\n",
    "    rho_bins = ((rho + max_rho) / rho_resolution).astype(int)\n",
    "    valid_mask = (rho_bins >= 0) & (rho_bins < num_rho_bins)\n",
    "    theta_indices = np.arange(num_theta_bins)[np.newaxis, :]\n",
    "    theta_indices = np.repeat(theta_indices, num_edge_points, axis=0)\n",
    "    if num_edge_points > 0:\n",
    "        np.add.at(hough_space, (rho_bins[valid_mask], theta_indices[valid_mask]), 1)\n",
    "    max_votes = hough_space.max() if hough_space.max() > 0 else 1\n",
    "    threshold = 0.8 * max_votes  # for instance\n",
    "    rho_bins, theta_bins = np.where(hough_space >= threshold)\n",
    "    votes = hough_space[rho_bins, theta_bins]\n",
    "    rho = (rho_bins * rho_resolution) - max_rho\n",
    "    theta = (theta_bins * theta_resolution) * (np.pi / 180)\n",
    "    peaks = np.column_stack((rho, theta, votes))\n",
    "    if len(peaks) > 0:\n",
    "        peaks = peaks[peaks[:, 2].argsort()[::-1]]\n",
    "    lines = peaks[:, :2] if len(peaks) > 0 else np.empty((0, 2))\n",
    "    return lines"
   ]
  },
  {
   "cell_type": "code",
   "execution_count": null,
   "metadata": {},
   "outputs": [
    {
     "name": "stdout",
     "output_type": "stream",
     "text": [
      "Image 0000: Detected 1476 lines\n",
      "Image 0001: Detected 1 lines\n",
      "Image 0002: Detected 3233 lines\n",
      "Image 0003: Detected 4556 lines\n",
      "Image 0004: Detected 3289 lines\n"
     ]
    }
   ],
   "source": [
    "for imnum in range(5):\n",
    "    image = cv2.imread(f'WarpDoc/distorted/curved/{imnum:04d}.jpg', cv2.IMREAD_GRAYSCALE)\n",
    "    if image is None:\n",
    "        print(f\"Failed to load image {imnum:04d}.jpg\")\n",
    "        continue\n",
    "    clahe = cv2.createCLAHE(clipLimit=3.0, tileGridSize=(8, 8))\n",
    "    contrast_image = clahe.apply(image)\n",
    "    blurred = cv2.GaussianBlur(contrast_image, (9,9), 2)\n",
    "    resized_image = cv2.resize(blurred, (int(image.shape[1] * 0.25), int(image.shape[0] * 0.25)), interpolation=cv2.INTER_LINEAR)\n",
    "    edges = cv2.Canny(resized_image, threshold1=100, threshold2=250)\n",
    "    cv2.imwrite(f'outputs/edges_{imnum:04d}.jpg', edges)\n",
    "    lines = hough_transform(edges, rho_resolution=1.0, theta_resolution=2.0, threshold_factor=0.5)\n",
    "    print(f\"Image {imnum:04d}: Detected {len(lines)} lines\")\n",
    "    resized_image_bgr = cv2.cvtColor(edges, cv2.COLOR_GRAY2BGR)\n",
    "    height, width = resized_image.shape\n",
    "    for rho, theta in lines:\n",
    "        a = np.cos(theta)\n",
    "        b = np.sin(theta)\n",
    "        if b != 0:\n",
    "            y0 = (rho - 0 * a) / b + height / 2\n",
    "            y1 = (rho - width * a) / b + height / 2\n",
    "            pt1 = (0, int(y0))\n",
    "            pt2 = (width, int(y1))\n",
    "        else:\n",
    "            x0 = rho / a + width / 2\n",
    "            pt1 = (int(x0), 0)\n",
    "            pt2 = (int(x0), height)\n",
    "        cv2.line(resized_image_bgr, pt1, pt2, (0, 0, 255), 2)\n",
    "    cv2.imwrite(f'outputs/lines_{imnum:04d}.jpg', resized_image_bgr)"
   ]
  },
  {
   "cell_type": "code",
   "execution_count": null,
   "metadata": {},
   "outputs": [],
   "source": []
  }
 ],
 "metadata": {
  "kernelspec": {
   "display_name": "venv",
   "language": "python",
   "name": "python3"
  },
  "language_info": {
   "codemirror_mode": {
    "name": "ipython",
    "version": 3
   },
   "file_extension": ".py",
   "mimetype": "text/x-python",
   "name": "python",
   "nbconvert_exporter": "python",
   "pygments_lexer": "ipython3",
   "version": "3.12.0"
  }
 },
 "nbformat": 4,
 "nbformat_minor": 2
}
